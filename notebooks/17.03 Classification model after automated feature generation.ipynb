{
  "cells": [
    {
      "attachments": {},
      "cell_type": "markdown",
      "metadata": {
        "colab_type": "text",
        "id": "LAQdBb9nixj-"
      },
      "source": [
        "**Loading Data and creating benchmark model**"
      ]
    },
    {
      "cell_type": "code",
      "execution_count": null,
      "metadata": {
        "colab": {},
        "colab_type": "code",
        "id": "An-m41d46gdU"
      },
      "outputs": [],
      "source": [
        "# Defining the path to the Github repository\n",
        "  file_url = 'https://raw.githubusercontent.com/sedeba19/Chapter-17/main/data_source/Datasets_bank-full.csv'"
      ]
    },
    {
      "cell_type": "code",
      "execution_count": 4,
      "metadata": {
        "colab": {
          "base_uri": "https://localhost:8080/",
          "height": 204
        },
        "colab_type": "code",
        "id": "u5PwstrC6yO3",
        "outputId": "17657a98-d511-4eef-8817-d3796a760c37"
      },
      "outputs": [
        {
          "data": {
            "text/html": [
              "<div>\n",
              "<style scoped>\n",
              "    .dataframe tbody tr th:only-of-type {\n",
              "        vertical-align: middle;\n",
              "    }\n",
              "\n",
              "    .dataframe tbody tr th {\n",
              "        vertical-align: top;\n",
              "    }\n",
              "\n",
              "    .dataframe thead th {\n",
              "        text-align: right;\n",
              "    }\n",
              "</style>\n",
              "<table border=\"1\" class=\"dataframe\">\n",
              "  <thead>\n",
              "    <tr style=\"text-align: right;\">\n",
              "      <th></th>\n",
              "      <th>age</th>\n",
              "      <th>job</th>\n",
              "      <th>marital</th>\n",
              "      <th>education</th>\n",
              "      <th>default</th>\n",
              "      <th>balance</th>\n",
              "      <th>housing</th>\n",
              "      <th>loan</th>\n",
              "      <th>contact</th>\n",
              "      <th>day</th>\n",
              "      <th>month</th>\n",
              "      <th>duration</th>\n",
              "      <th>campaign</th>\n",
              "      <th>pdays</th>\n",
              "      <th>previous</th>\n",
              "      <th>poutcome</th>\n",
              "      <th>y</th>\n",
              "    </tr>\n",
              "  </thead>\n",
              "  <tbody>\n",
              "    <tr>\n",
              "      <th>0</th>\n",
              "      <td>58</td>\n",
              "      <td>management</td>\n",
              "      <td>married</td>\n",
              "      <td>tertiary</td>\n",
              "      <td>no</td>\n",
              "      <td>2143</td>\n",
              "      <td>yes</td>\n",
              "      <td>no</td>\n",
              "      <td>unknown</td>\n",
              "      <td>5</td>\n",
              "      <td>may</td>\n",
              "      <td>261</td>\n",
              "      <td>1</td>\n",
              "      <td>-1</td>\n",
              "      <td>0</td>\n",
              "      <td>unknown</td>\n",
              "      <td>no</td>\n",
              "    </tr>\n",
              "    <tr>\n",
              "      <th>1</th>\n",
              "      <td>44</td>\n",
              "      <td>technician</td>\n",
              "      <td>single</td>\n",
              "      <td>secondary</td>\n",
              "      <td>no</td>\n",
              "      <td>29</td>\n",
              "      <td>yes</td>\n",
              "      <td>no</td>\n",
              "      <td>unknown</td>\n",
              "      <td>5</td>\n",
              "      <td>may</td>\n",
              "      <td>151</td>\n",
              "      <td>1</td>\n",
              "      <td>-1</td>\n",
              "      <td>0</td>\n",
              "      <td>unknown</td>\n",
              "      <td>no</td>\n",
              "    </tr>\n",
              "    <tr>\n",
              "      <th>2</th>\n",
              "      <td>33</td>\n",
              "      <td>entrepreneur</td>\n",
              "      <td>married</td>\n",
              "      <td>secondary</td>\n",
              "      <td>no</td>\n",
              "      <td>2</td>\n",
              "      <td>yes</td>\n",
              "      <td>yes</td>\n",
              "      <td>unknown</td>\n",
              "      <td>5</td>\n",
              "      <td>may</td>\n",
              "      <td>76</td>\n",
              "      <td>1</td>\n",
              "      <td>-1</td>\n",
              "      <td>0</td>\n",
              "      <td>unknown</td>\n",
              "      <td>no</td>\n",
              "    </tr>\n",
              "    <tr>\n",
              "      <th>3</th>\n",
              "      <td>47</td>\n",
              "      <td>blue-collar</td>\n",
              "      <td>married</td>\n",
              "      <td>unknown</td>\n",
              "      <td>no</td>\n",
              "      <td>1506</td>\n",
              "      <td>yes</td>\n",
              "      <td>no</td>\n",
              "      <td>unknown</td>\n",
              "      <td>5</td>\n",
              "      <td>may</td>\n",
              "      <td>92</td>\n",
              "      <td>1</td>\n",
              "      <td>-1</td>\n",
              "      <td>0</td>\n",
              "      <td>unknown</td>\n",
              "      <td>no</td>\n",
              "    </tr>\n",
              "    <tr>\n",
              "      <th>4</th>\n",
              "      <td>33</td>\n",
              "      <td>unknown</td>\n",
              "      <td>single</td>\n",
              "      <td>unknown</td>\n",
              "      <td>no</td>\n",
              "      <td>1</td>\n",
              "      <td>no</td>\n",
              "      <td>no</td>\n",
              "      <td>unknown</td>\n",
              "      <td>5</td>\n",
              "      <td>may</td>\n",
              "      <td>198</td>\n",
              "      <td>1</td>\n",
              "      <td>-1</td>\n",
              "      <td>0</td>\n",
              "      <td>unknown</td>\n",
              "      <td>no</td>\n",
              "    </tr>\n",
              "  </tbody>\n",
              "</table>\n",
              "</div>"
            ],
            "text/plain": [
              "   age           job  marital  education  ... pdays  previous poutcome   y\n",
              "0   58    management  married   tertiary  ...    -1         0  unknown  no\n",
              "1   44    technician   single  secondary  ...    -1         0  unknown  no\n",
              "2   33  entrepreneur  married  secondary  ...    -1         0  unknown  no\n",
              "3   47   blue-collar  married    unknown  ...    -1         0  unknown  no\n",
              "4   33       unknown   single    unknown  ...    -1         0  unknown  no\n",
              "\n",
              "[5 rows x 17 columns]"
            ]
          },
          "execution_count": 4,
          "metadata": {
            "tags": []
          },
          "output_type": "execute_result"
        }
      ],
      "source": [
        "# Loading data using pandas\n",
        "import pandas as pd\n",
        "bankData = pd.read_csv(file_url,sep=\";\")\n",
        "bankData.head()"
      ]
    },
    {
      "cell_type": "code",
      "execution_count": null,
      "metadata": {
        "colab": {},
        "colab_type": "code",
        "id": "R3p8ogdwfKcK"
      },
      "outputs": [],
      "source": [
        "# Removing the target variable\n",
        "Y = bankData.pop('y')"
      ]
    },
    {
      "cell_type": "code",
      "execution_count": null,
      "metadata": {
        "colab": {},
        "colab_type": "code",
        "id": "vyKD7XdowD1X"
      },
      "outputs": [],
      "source": [
        "from sklearn.model_selection import train_test_split\n",
        "\n",
        "# Splitting the data into train and test sets\n",
        "X_train, X_test, y_train, y_test = train_test_split(bankData, Y, test_size=0.3, random_state=123)"
      ]
    },
    {
      "cell_type": "code",
      "execution_count": null,
      "metadata": {
        "colab": {},
        "colab_type": "code",
        "id": "iIJH_OOhwDsg"
      },
      "outputs": [],
      "source": [
        "# Using pipeline to transform categorical variable and numeric variables\n",
        "from sklearn.pipeline import Pipeline\n",
        "from sklearn.preprocessing import StandardScaler, OneHotEncoder\n",
        "\n",
        "categorical_transformer = Pipeline(steps=[('onehot', OneHotEncoder(handle_unknown='ignore'))])\n",
        "\n",
        "numeric_transformer = Pipeline(steps=[('scaler', StandardScaler())])\n",
        "\n"
      ]
    },
    {
      "cell_type": "code",
      "execution_count": null,
      "metadata": {
        "colab": {},
        "colab_type": "code",
        "id": "nAjLOQdSxZhv"
      },
      "outputs": [],
      "source": [
        "# Defining data types for numeric and categorical features\n",
        "numeric_features = bankData.select_dtypes(include=['int64', 'float64']).columns\n",
        "categorical_features = bankData.select_dtypes(include=['object']).columns\n",
        "\n"
      ]
    },
    {
      "cell_type": "code",
      "execution_count": null,
      "metadata": {
        "colab": {},
        "colab_type": "code",
        "id": "E3Yqja--wDra"
      },
      "outputs": [],
      "source": [
        "# Defining preprocessor\n",
        "from sklearn.compose import ColumnTransformer\n",
        "preprocessor = ColumnTransformer(\n",
        "    transformers=[\n",
        "        ('num', numeric_transformer, numeric_features),\n",
        "        ('cat', categorical_transformer, categorical_features)])"
      ]
    },
    {
      "cell_type": "code",
      "execution_count": null,
      "metadata": {
        "colab": {},
        "colab_type": "code",
        "id": "unZgSKaXwDk_"
      },
      "outputs": [],
      "source": [
        "# Defining the estimator for processing and classification\n",
        "from sklearn.linear_model import LogisticRegression\n",
        "estimator = Pipeline(steps=[('preprocessor', preprocessor),                      \n",
        "                           ('classifier',LogisticRegression(random_state=123))])\n"
      ]
    },
    {
      "cell_type": "code",
      "execution_count": null,
      "metadata": {
        "colab": {
          "base_uri": "https://localhost:8080/",
          "height": 88
        },
        "colab_type": "code",
        "id": "sq0VVPEEwDjv",
        "outputId": "44f48772-c3c8-45cb-e41d-08e652495ed5"
      },
      "outputs": [
        {
          "name": "stderr",
          "output_type": "stream",
          "text": [
            "/usr/local/lib/python3.6/dist-packages/sklearn/linear_model/logistic.py:432: FutureWarning: Default solver will be changed to 'lbfgs' in 0.22. Specify a solver to silence this warning.\n",
            "  FutureWarning)\n"
          ]
        },
        {
          "name": "stdout",
          "output_type": "stream",
          "text": [
            "model score: 0.90\n"
          ]
        }
      ],
      "source": [
        "# Fit the estimator on the training set\n",
        "estimator.fit(X_train, y_train)  \n",
        "print(\"model score: %.2f\" % estimator.score(X_test, y_test)) "
      ]
    },
    {
      "cell_type": "code",
      "execution_count": null,
      "metadata": {
        "colab": {},
        "colab_type": "code",
        "id": "udpedpFmwDVl"
      },
      "outputs": [],
      "source": [
        "# Predict on the test set\n",
        "pred = estimator.predict(X_test)"
      ]
    },
    {
      "cell_type": "code",
      "execution_count": null,
      "metadata": {
        "colab": {
          "base_uri": "https://localhost:8080/",
          "height": 170
        },
        "colab_type": "code",
        "id": "_LimADp8wDEN",
        "outputId": "74773c25-dd3c-4d84-bf93-420d02805bcf"
      },
      "outputs": [
        {
          "name": "stdout",
          "output_type": "stream",
          "text": [
            "              precision    recall  f1-score   support\n",
            "\n",
            "          no       0.98      0.92      0.95     12765\n",
            "         yes       0.32      0.64      0.43       799\n",
            "\n",
            "    accuracy                           0.90     13564\n",
            "   macro avg       0.65      0.78      0.69     13564\n",
            "weighted avg       0.94      0.90      0.92     13564\n",
            "\n"
          ]
        }
      ],
      "source": [
        "# Generating classification report\n",
        "from sklearn.metrics import classification_report\n",
        "\n",
        "print(classification_report(pred,y_test))"
      ]
    },
    {
      "attachments": {},
      "cell_type": "markdown",
      "metadata": {
        "colab_type": "text",
        "id": "Y9SWTwQfy3Qz"
      },
      "source": [
        "**Establishing entities and relationship**"
      ]
    },
    {
      "cell_type": "code",
      "execution_count": null,
      "metadata": {
        "colab": {},
        "colab_type": "code",
        "id": "G0bLuG6uj-Kj"
      },
      "outputs": [],
      "source": [
        "# Creating the Ids for Demographic Entity\n",
        "bankData['custID'] = bankData.index.values\n",
        "\n",
        "bankData['custID'] = 'cust' + bankData['custID'].astype(str)"
      ]
    },
    {
      "cell_type": "code",
      "execution_count": null,
      "metadata": {
        "colab": {},
        "colab_type": "code",
        "id": "jd6d2SwakOqw"
      },
      "outputs": [],
      "source": [
        "# Creating AssetId\n",
        "bankData['AssetId'] = 0\n",
        "bankData.loc[bankData.housing == 'yes','AssetId']= 1"
      ]
    },
    {
      "cell_type": "code",
      "execution_count": null,
      "metadata": {
        "colab": {},
        "colab_type": "code",
        "id": "mBK8lbIdkXxQ"
      },
      "outputs": [],
      "source": [
        "# Creating LoanId\n",
        "bankData['LoanId'] = 0\n",
        "bankData.loc[bankData.loan == 'yes','LoanId']= 1"
      ]
    },
    {
      "cell_type": "code",
      "execution_count": null,
      "metadata": {
        "colab": {},
        "colab_type": "code",
        "id": "c78GODPvkcHf"
      },
      "outputs": [],
      "source": [
        "# Creating Financial behaviour ID\n",
        "bankData['FinbehId'] = 0\n",
        "bankData.loc[bankData.default == 'yes','FinbehId']= 1"
      ]
    },
    {
      "cell_type": "code",
      "execution_count": null,
      "metadata": {
        "colab": {},
        "colab_type": "code",
        "id": "SPBA0i47j1qa"
      },
      "outputs": [],
      "source": [
        "# Importing necessary libraries\n",
        "import featuretools as ft\n",
        "import numpy as np"
      ]
    },
    {
      "cell_type": "code",
      "execution_count": null,
      "metadata": {
        "colab": {},
        "colab_type": "code",
        "id": "i-x5WNvDkyjd"
      },
      "outputs": [],
      "source": [
        "# creating the entity set 'Bankentities'\n",
        "Bankentities = ft.EntitySet(id = 'Bank')"
      ]
    },
    {
      "cell_type": "code",
      "execution_count": null,
      "metadata": {
        "colab": {
          "base_uri": "https://localhost:8080/",
          "height": 102
        },
        "colab_type": "code",
        "id": "Pa8nAOj_lFG_",
        "outputId": "9062b18d-6462-4735-f027-c401d016eff4"
      },
      "outputs": [
        {
          "data": {
            "text/plain": [
              "Entityset: Bank\n",
              "  Entities:\n",
              "    Demographic Data [Rows: 45211, Columns: 20]\n",
              "  Relationships:\n",
              "    No relationships"
            ]
          },
          "execution_count": 59,
          "metadata": {
            "tags": []
          },
          "output_type": "execute_result"
        }
      ],
      "source": [
        "# Mapping a dataframe to the entityset to form the parent entity\n",
        "Bankentities.entity_from_dataframe(entity_id = 'Demographic Data', dataframe = bankData, index = 'custID')"
      ]
    },
    {
      "cell_type": "code",
      "execution_count": null,
      "metadata": {
        "colab": {
          "base_uri": "https://localhost:8080/",
          "height": 187
        },
        "colab_type": "code",
        "id": "xJsgsrN1l4gh",
        "outputId": "bd4af5ca-e7c2-4bff-c5c6-9085f44058a4"
      },
      "outputs": [
        {
          "data": {
            "text/plain": [
              "Entityset: Bank\n",
              "  Entities:\n",
              "    Demographic Data [Rows: 45211, Columns: 17]\n",
              "    Assets [Rows: 2, Columns: 2]\n",
              "    Liability [Rows: 2, Columns: 2]\n",
              "    FinBehaviour [Rows: 2, Columns: 2]\n",
              "  Relationships:\n",
              "    Demographic Data.AssetId -> Assets.AssetId\n",
              "    Demographic Data.LoanId -> Liability.LoanId\n",
              "    Demographic Data.FinbehId -> FinBehaviour.FinbehId"
            ]
          },
          "execution_count": 60,
          "metadata": {
            "tags": []
          },
          "output_type": "execute_result"
        }
      ],
      "source": [
        "# Mapping to parent entity and setting the relationship\n",
        "Bankentities.normalize_entity(base_entity_id='Demographic Data', new_entity_id='Assets', index = 'AssetId', \n",
        "additional_variables = ['housing'])\n",
        "\n",
        "Bankentities.normalize_entity(base_entity_id='Demographic Data', new_entity_id='Liability', index = 'LoanId', \n",
        "additional_variables = ['loan'])\n",
        "\n",
        "Bankentities.normalize_entity(base_entity_id='Demographic Data', new_entity_id='FinBehaviour', index = 'FinbehId', \n",
        "additional_variables = ['default'])\n"
      ]
    },
    {
      "attachments": {},
      "cell_type": "markdown",
      "metadata": {
        "colab_type": "text",
        "id": "EW86TseKi3kr"
      },
      "source": [
        "**Feature Engineering**"
      ]
    },
    {
      "cell_type": "code",
      "execution_count": null,
      "metadata": {
        "colab": {},
        "colab_type": "code",
        "id": "t5XfGri_r6Nd"
      },
      "outputs": [],
      "source": [
        "# Creating aggregation and transformation primitives\n",
        "aggPrimitives=[\n",
        "        'std', 'min', 'max', 'mean', \n",
        "         'last', 'count'\n",
        "        \n",
        "]\n",
        "tranPrimitives=[\n",
        "        'percentile', \n",
        "         'subtract', 'divide']"
      ]
    },
    {
      "cell_type": "code",
      "execution_count": null,
      "metadata": {
        "colab": {
          "base_uri": "https://localhost:8080/",
          "height": 51
        },
        "colab_type": "code",
        "id": "EUI6ExwAsliv",
        "outputId": "a5f06bfe-d643-4d23-de32-67016029de81"
      },
      "outputs": [
        {
          "name": "stdout",
          "output_type": "stream",
          "text": [
            "Built 3420 features\n",
            "Elapsed: 01:42 | Remaining: 00:00 | Progress: 100%|██████████| Calculated: 11/11 chunks\n"
          ]
        }
      ],
      "source": [
        "# Defining the new set of features\n",
        "feature_set, feature_names = ft.dfs(entityset=Bankentities, \n",
        "target_entity = 'Demographic Data',\n",
        "agg_primitives=aggPrimitives,\n",
        "trans_primitives=tranPrimitives, \n",
        "max_depth = 2, \n",
        "verbose = 1, \n",
        "n_jobs = 1)"
      ]
    },
    {
      "cell_type": "code",
      "execution_count": null,
      "metadata": {
        "colab": {},
        "colab_type": "code",
        "id": "Qbepc1BX0jR6"
      },
      "outputs": [],
      "source": [
        "# Reindexing the feature_set\n",
        "feature_set = feature_set.reindex(index=bankData['custID'])\n",
        "feature_set = feature_set.reset_index()"
      ]
    },
    {
      "cell_type": "code",
      "execution_count": null,
      "metadata": {
        "colab": {
          "base_uri": "https://localhost:8080/",
          "height": 34
        },
        "colab_type": "code",
        "id": "ysbe6Sz4tlSG",
        "outputId": "84339f49-5e2f-42aa-f3a8-c261993d56cd"
      },
      "outputs": [
        {
          "data": {
            "text/plain": [
              "(45211, 3421)"
            ]
          },
          "execution_count": 28,
          "metadata": {
            "tags": []
          },
          "output_type": "execute_result"
        }
      ],
      "source": [
        "# Displaying the feature set \n",
        "feature_set.shape"
      ]
    },
    {
      "attachments": {},
      "cell_type": "markdown",
      "metadata": {
        "colab_type": "text",
        "id": "gAbP-lin0PBc"
      },
      "source": [
        "**Cleaning na values and infinity values**"
      ]
    },
    {
      "cell_type": "code",
      "execution_count": null,
      "metadata": {
        "colab": {
          "base_uri": "https://localhost:8080/",
          "height": 34
        },
        "colab_type": "code",
        "id": "oPivNx2c1Cl0",
        "outputId": "159e76b3-180b-400f-c6ac-b56b3ee17ccd"
      },
      "outputs": [
        {
          "data": {
            "text/plain": [
              "(45211, 3411)"
            ]
          },
          "execution_count": 32,
          "metadata": {
            "tags": []
          },
          "output_type": "execute_result"
        }
      ],
      "source": [
        "# Dropping all Ids\n",
        "X = feature_set[feature_set.columns[~feature_set.columns.str.contains(\n",
        "    'custID|AssetId|LoanId|FinbehId')]]\n"
      ]
    },
    {
      "cell_type": "code",
      "execution_count": null,
      "metadata": {
        "colab": {
          "base_uri": "https://localhost:8080/",
          "height": 34
        },
        "colab_type": "code",
        "id": "YdKpHnli0Nuw",
        "outputId": "df03c3bb-525b-4d45-b5c3-2a3de92070ad"
      },
      "outputs": [
        {
          "data": {
            "text/plain": [
              "(45211, 3411)"
            ]
          },
          "execution_count": 33,
          "metadata": {
            "tags": []
          },
          "output_type": "execute_result"
        }
      ],
      "source": [
        "# Replacing all columns with infinity with nan\n",
        "X = X.replace([np.inf, -np.inf], np.nan)\n",
        "\n"
      ]
    },
    {
      "cell_type": "code",
      "execution_count": null,
      "metadata": {
        "colab": {
          "base_uri": "https://localhost:8080/",
          "height": 34
        },
        "colab_type": "code",
        "id": "Iohw3k3A0NUt",
        "outputId": "b2b0b8c5-61d9-426b-e805-82619e832ecd"
      },
      "outputs": [
        {
          "data": {
            "text/plain": [
              "(45211, 1046)"
            ]
          },
          "execution_count": 35,
          "metadata": {
            "tags": []
          },
          "output_type": "execute_result"
        }
      ],
      "source": [
        "# Dropping all columns with nan\n",
        "X = X.dropna(axis=1, how='any')\n",
        "X.shape"
      ]
    },
    {
      "attachments": {},
      "cell_type": "markdown",
      "metadata": {
        "colab_type": "text",
        "id": "olsjNOmS28xB"
      },
      "source": [
        "**Modelling phase**"
      ]
    },
    {
      "cell_type": "code",
      "execution_count": null,
      "metadata": {
        "colab": {},
        "colab_type": "code",
        "id": "xiUAOlEG0M6q"
      },
      "outputs": [],
      "source": [
        "# Splitting train and test sets\n",
        "from sklearn.model_selection import train_test_split\n",
        "\n",
        "# Splitting the data into train and test sets\n",
        "X_train, X_test, y_train, y_test = train_test_split(X, Y, test_size=0.3, random_state=123)"
      ]
    },
    {
      "cell_type": "code",
      "execution_count": null,
      "metadata": {
        "colab": {},
        "colab_type": "code",
        "id": "b91XD0qK3J2n"
      },
      "outputs": [],
      "source": [
        "# Creating the preprocessing pipeline\n",
        "from sklearn.pipeline import Pipeline\n",
        "from sklearn.preprocessing import StandardScaler, OneHotEncoder\n",
        "\n",
        "categorical_transformer = Pipeline(steps=[('onehot', OneHotEncoder(handle_unknown='ignore'))])\n",
        "\n",
        "numeric_transformer = Pipeline(steps=[('scaler', StandardScaler())])\n",
        "\n",
        "numeric_features = X.select_dtypes(include=['int64', 'float64']).columns\n",
        "categorical_features = X.select_dtypes(include=['object']).columns\n",
        "\n",
        "from sklearn.compose import ColumnTransformer\n",
        "preprocessor = ColumnTransformer(\n",
        "    transformers=[\n",
        "        ('num', numeric_transformer, numeric_features),\n",
        "        ('cat', categorical_transformer, categorical_features)])"
      ]
    },
    {
      "cell_type": "code",
      "execution_count": null,
      "metadata": {
        "colab": {
          "base_uri": "https://localhost:8080/",
          "height": 122
        },
        "colab_type": "code",
        "id": "DLzG98T13Sq7",
        "outputId": "f5a819a4-5461-46fc-f601-8794b73057b5"
      },
      "outputs": [
        {
          "name": "stderr",
          "output_type": "stream",
          "text": [
            "/usr/local/lib/python3.6/dist-packages/sklearn/linear_model/logistic.py:432: FutureWarning: Default solver will be changed to 'lbfgs' in 0.22. Specify a solver to silence this warning.\n",
            "  FutureWarning)\n",
            "/usr/local/lib/python3.6/dist-packages/sklearn/svm/base.py:929: ConvergenceWarning: Liblinear failed to converge, increase the number of iterations.\n",
            "  \"the number of iterations.\", ConvergenceWarning)\n"
          ]
        },
        {
          "name": "stdout",
          "output_type": "stream",
          "text": [
            "model score: 0.90\n"
          ]
        }
      ],
      "source": [
        "# Creating the estimator function and fitting the training set\n",
        "estimator = Pipeline(steps=[('preprocessor', preprocessor),                      \n",
        "                           ('classifier',LogisticRegression(random_state=123))])\n",
        "estimator.fit(X_train, y_train)  \n",
        "print(\"model score: %.2f\" % estimator.score(X_test, y_test)) "
      ]
    },
    {
      "cell_type": "code",
      "execution_count": null,
      "metadata": {
        "colab": {},
        "colab_type": "code",
        "id": "6Fa_KNSv37hj"
      },
      "outputs": [],
      "source": [
        "# Predicting on the test set\n",
        "pred = estimator.predict(X_test)"
      ]
    },
    {
      "cell_type": "code",
      "execution_count": null,
      "metadata": {
        "colab": {
          "base_uri": "https://localhost:8080/",
          "height": 170
        },
        "colab_type": "code",
        "id": "_lWvNPMl4Eeb",
        "outputId": "5f83bf4e-b52d-478d-ede2-b3ad1de9a634"
      },
      "outputs": [
        {
          "name": "stdout",
          "output_type": "stream",
          "text": [
            "              precision    recall  f1-score   support\n",
            "\n",
            "          no       0.97      0.92      0.95     12716\n",
            "         yes       0.35      0.65      0.45       848\n",
            "\n",
            "    accuracy                           0.90     13564\n",
            "   macro avg       0.66      0.78      0.70     13564\n",
            "weighted avg       0.94      0.90      0.92     13564\n",
            "\n"
          ]
        }
      ],
      "source": [
        "# Generating the classification report\n",
        "from sklearn.metrics import classification_report\n",
        "\n",
        "print(classification_report(pred,y_test))"
      ]
    }
  ],
  "metadata": {
    "colab": {
      "name": "Exercise 17.03: Classification model after automated feature generation",
      "provenance": []
    },
    "kernelspec": {
      "display_name": "Python 3",
      "name": "python3"
    }
  },
  "nbformat": 4,
  "nbformat_minor": 0
}
